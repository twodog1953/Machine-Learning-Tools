{
 "cells": [
  {
   "cell_type": "markdown",
   "id": "204eb8ea-7e7d-4093-b027-d4e2dbac1861",
   "metadata": {},
   "source": [
    "An ETL Overview"
   ]
  },
  {
   "cell_type": "code",
   "execution_count": null,
   "id": "f18774fe-73f8-478c-8667-c22a887b3188",
   "metadata": {},
   "outputs": [],
   "source": []
  }
 ],
 "metadata": {
  "kernelspec": {
   "display_name": "Python 3 (ipykernel)",
   "language": "python",
   "name": "python3"
  },
  "language_info": {
   "codemirror_mode": {
    "name": "ipython",
    "version": 3
   },
   "file_extension": ".py",
   "mimetype": "text/x-python",
   "name": "python",
   "nbconvert_exporter": "python",
   "pygments_lexer": "ipython3",
   "version": "3.12.7"
  }
 },
 "nbformat": 4,
 "nbformat_minor": 5
}
